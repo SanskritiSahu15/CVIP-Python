{
  "nbformat": 4,
  "nbformat_minor": 0,
  "metadata": {
    "colab": {
      "provenance": [],
      "authorship_tag": "ABX9TyPCiJc7zRFQdxaw4sniNrCt",
      "include_colab_link": true
    },
    "kernelspec": {
      "name": "python3",
      "display_name": "Python 3"
    },
    "language_info": {
      "name": "python"
    }
  },
  "cells": [
    {
      "cell_type": "markdown",
      "metadata": {
        "id": "view-in-github",
        "colab_type": "text"
      },
      "source": [
        "<a href=\"https://colab.research.google.com/github/SanskritiSahu15/CVIP-Python/blob/main/typing_speed.ipynb\" target=\"_parent\"><img src=\"https://colab.research.google.com/assets/colab-badge.svg\" alt=\"Open In Colab\"/></a>"
      ]
    },
    {
      "cell_type": "code",
      "source": [
        "import time\n",
        "import random\n",
        "\n",
        "def get_words():\n",
        "  words=[\"python\",\"programming\",\"coding\",\"practice\"]\n",
        "  return random.choice(words)\n",
        "\n",
        "def calculate_typing_speed(start_time,end_time,typed_text):\n",
        "  elapsed_time= end_time - start_time\n",
        "  words_per_minute=(len(typed_text.split()) / elapsed_time)*60\n",
        "  return words_per_minute\n",
        "\n",
        "def main():\n",
        "  input(\"Press enter to start \")\n",
        "\n",
        "  target_word = get_words()\n",
        "  print(f\"Type the word: {target_word}\")\n",
        "\n",
        "  start_time=time.time()\n",
        "\n",
        "  typed_text=input()\n",
        "\n",
        "  end_time=time.time()\n",
        "\n",
        "  if typed_text.strip()==target_word:\n",
        "    speed=calculate_typing_speed(start_time,end_time,typed_text)\n",
        "    print(f\"Your typing speed is: {speed:.2f} words per minute\")\n",
        "\n",
        "  else:\n",
        "    print(\"Incorrect word try again\")\n",
        "    main()\n",
        "\n",
        "if __name__ == \"__main__\":\n",
        "    main()\n",
        "\n",
        "\n",
        "\n",
        "\n",
        "\n"
      ],
      "metadata": {
        "colab": {
          "base_uri": "https://localhost:8080/"
        },
        "id": "DwE6bZNBdOVi",
        "outputId": "be27f753-5cb9-4202-9075-b10500db0100"
      },
      "execution_count": 14,
      "outputs": [
        {
          "output_type": "stream",
          "name": "stdout",
          "text": [
            "Press enter to start \n",
            "Type the word: practice\n",
            "practice\n",
            "Your typing speed is: 12.46 words per minute\n"
          ]
        }
      ]
    }
  ]
}